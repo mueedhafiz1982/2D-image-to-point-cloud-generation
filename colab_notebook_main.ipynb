{
  "nbformat": 4,
  "nbformat_minor": 0,
  "metadata": {
    "accelerator": "GPU",
    "colab": {
      "name": "colab-notebook-main.ipynb",
      "provenance": [],
      "collapsed_sections": []
    },
    "kernelspec": {
      "display_name": "Python 3",
      "name": "python3"
    },
    "language_info": {
      "name": "python"
    }
  },
  "cells": [
    {
      "cell_type": "code",
      "metadata": {
        "id": "-OOPrDtXw0lQ"
      },
      "source": [
        "from google.colab import drive\n",
        "drive.mount('/content/drive')"
      ],
      "execution_count": null,
      "outputs": []
    },
    {
      "cell_type": "code",
      "metadata": {
        "id": "mB9UYLBTvk1K"
      },
      "source": [
        "!wget https://cmu.box.com/shared/static/s4lkm5ej7sh4px72vesr17b1gxam4hgy.gz"
      ],
      "execution_count": null,
      "outputs": []
    },
    {
      "cell_type": "code",
      "metadata": {
        "id": "Sjg6Zr_-uv-1"
      },
      "source": [
        "%tensorflow_version 1.x\n",
        "!pip install numpy==1.19.5\n",
        "\n",
        "import tarfile\n",
        "tar = tarfile.open(\"/content/drive/MyDrive/s4lkm5ej7sh4px72vesr17b1gxam4hgy.gz\")\n",
        "tar.extractall()\n",
        "tar.close()\n",
        "\n",
        "\"Copy trans_fuse8.npy from original project folder to \\data\\ folder of current project\""
      ],
      "execution_count": null,
      "outputs": []
    },
    {
      "cell_type": "code",
      "metadata": {
        "id": "K-AE-qROYo0O"
      },
      "source": [
        "!python3 /content/drive/MyDrive/code/pretrain.py --group=0 --model=orig-pre --arch=original --lr=1e-2 --toIt=100000\n",
        "!python3 /content/drive/MyDrive/code/train.py --group=0 --model=orig-ft --arch=original --load=orig-pre_it100000 --lr=1e-5 --fromIt=0 --toIt=4000\n",
        "!python3 /content/drive/MyDrive/code/evaluate.py --group=0 --arch=original --load=orig-ft_it2000\n",
        "!python3 /content/drive/MyDrive/code/evaluate_dist.py --group=0 --load=orig-ft_it2000"
      ],
      "execution_count": null,
      "outputs": []
    },
    {
      "cell_type": "code",
      "metadata": {
        "id": "B6aKCF3Q6Awt"
      },
      "source": [
        "!python3 /content/drive/MyDrive/code/pretrainv4.py --group=0 --model=orig-pre --arch=original --lr=5e-3 --toIt=100000\n",
        "!python3 /content/drive/MyDrive/code/train.py --group=0 --model=orig-ft --arch=original --load=orig-pre_it100000 --lr=5e-6 --fromIt=0 --toIt=4000\n",
        "!python3 /content/drive/MyDrive/code/evaluate.py --group=0 --arch=original --load=orig-ft_it400\n",
        "!python3 /content/drive/MyDrive/code/evaluate_dist.py --group=0 --load=orig-ft_it400"
      ],
      "execution_count": null,
      "outputs": []
    },
    {
      "cell_type": "code",
      "metadata": {
        "id": "nXtnEghHrgeH"
      },
      "source": [
        "!python3 /content/drive/MyDrive/code/pretrainv8.py --group=0 --model=orig-pre --arch=original --lr=5e-3 --toIt=100000\n",
        "!python3 /content/drive/MyDrive/code/train.py --group=0 --model=orig-ft --arch=original --load=orig-pre_it100000 --lr=5e-6 --fromIt=0 --toIt=4000\n",
        "!python3 /content/drive/MyDrive/code/evaluate.py --group=0 --arch=original --load=orig-ft_it2000\n",
        "!python3 /content/drive/MyDrive/code/evaluate_dist.py --group=0 --load=orig-ft_it2000"
      ],
      "execution_count": null,
      "outputs": []
    }
  ]
}
