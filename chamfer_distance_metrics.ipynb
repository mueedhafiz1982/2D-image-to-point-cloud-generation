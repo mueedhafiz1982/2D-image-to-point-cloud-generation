{
  "nbformat": 4,
  "nbformat_minor": 0,
  "metadata": {
    "colab": {
      "name": "chamfer-distance-metrics.ipynb",
      "provenance": [],
      "collapsed_sections": [],
      "machine_shape": "hm"
    },
    "kernelspec": {
      "name": "python3",
      "display_name": "Python 3"
    },
    "language_info": {
      "name": "python"
    },
    "accelerator": "GPU"
  },
  "cells": [
    {
      "cell_type": "code",
      "metadata": {
        "id": "nlYS-aXWVqTI"
      },
      "source": [
        "from google.colab import drive\n",
        "drive.mount('/content/drive')"
      ],
      "execution_count": null,
      "outputs": []
    },
    {
      "cell_type": "code",
      "metadata": {
        "id": "fe8Ha-diSnV2"
      },
      "source": [
        "!pip install git+git://github.com/fwilliams/point-cloud-utils"
      ],
      "execution_count": null,
      "outputs": []
    },
    {
      "cell_type": "code",
      "metadata": {
        "id": "xVqzO1SHKwsY"
      },
      "source": [
        "!pip install scipy==1.6.3"
      ],
      "execution_count": null,
      "outputs": []
    },
    {
      "cell_type": "code",
      "metadata": {
        "id": "LrOX8GpVnegm"
      },
      "source": [
        "import point_cloud_utils as pcu\n",
        "import numpy as np\n",
        "import scipy.io as sio\n",
        "import os\n",
        "import pickle\n",
        "\n",
        "i=0\n",
        "p1='/content/data/03001627_testGT'\n",
        "p2='/content/drive/MyDrive/code/results_0/orig-ft_it4000'\n",
        "total=[]\n",
        "files = os.listdir(p1)\n",
        "#files1 = os.listdir(p2)\n",
        "\n",
        "for i in range(len(files)):\n",
        "  if (files[i] != 'count.txt'):\n",
        "    p11= p1 + '/' + files[i]\n",
        "    p22= p2 + '/' + files[i]\n",
        "    a= sio.loadmat(p11)\n",
        "    #sorted(a.keys())\n",
        "    a1=a['Vd']\n",
        "    b= sio.loadmat(p22, simplify_cells=True)\n",
        "    #sorted(b.keys())\n",
        "    b1=b['pointcloud']\n",
        "    a1[:,1],a1[:,2] = a1[:,2],-a1[:,1]\n",
        "    b2=b1[0]\n",
        "    b2[:,1],b2[:,2] = b2[:,2],-b2[:,1]\n",
        "    dist = pcu.chamfer_distance(np.float32(a1), np.float32(b2))\n",
        "    total.append(dist)\n",
        "    print(i,dist)\n",
        "\n",
        "with open(\"/content/drive/MyDrive/total.txt\", \"wb\") as fp:   #Pickling\n",
        "  pickle.dump(total, fp)"
      ],
      "execution_count": null,
      "outputs": []
    },
    {
      "cell_type": "code",
      "metadata": {
        "id": "J7V_rJb2siFT"
      },
      "source": [
        "#!pip install scipy==1.6.3\n",
        "\n",
        "import point_cloud_utils as pcu\n",
        "import numpy as np\n",
        "import scipy.io as sio\n",
        "import os\n",
        "import pickle\n",
        "\n",
        "i=0\n",
        "p1='/content/data/03001627_testGT'\n",
        "p2='/content/drive/MyDrive/code_original_algorithm/results_0/orig-ft_it4000'\n",
        "total2=[]\n",
        "files = os.listdir(p1)\n",
        "\n",
        "for i in range(len(files)):\n",
        "  if (files[i] != 'count.txt'):\n",
        "    p11= p1 + '/' + files[i]\n",
        "    p22= p2 + '/' + files[i]\n",
        "    a= sio.loadmat(p11)\n",
        "    #sorted(a.keys())\n",
        "    a1=a['Vd']\n",
        "    b= sio.loadmat(p22, simplify_cells=True)\n",
        "    #sorted(b.keys())\n",
        "    b1=b['pointcloud']\n",
        "    a1[:,1],a1[:,2] = a1[:,2],-a1[:,1]\n",
        "    b2=b1[0]\n",
        "    b2[:,1],b2[:,2] = b2[:,2],-b2[:,1]\n",
        "    dist = pcu.chamfer_distance(np.float32(a1), np.float32(b2))\n",
        "    total2.append(dist)\n",
        "    print(i,dist)\n",
        "\n",
        "with open(\"/content/drive/MyDrive/total2.txt\", \"wb\") as fp1:   #Pickling\n",
        "  pickle.dump(total2, fp1)"
      ],
      "execution_count": null,
      "outputs": []
    },
    {
      "cell_type": "code",
      "metadata": {
        "id": "zeJPRKRRsKfq"
      },
      "source": [
        "import pickle\n",
        "import numpy as np\n",
        "\n",
        "with open(\"/content/drive/MyDrive/total.txt\", \"rb\") as fp:   # Unpickling\n",
        "  total = pickle.load(fp)\n",
        "\n",
        "with open(\"/content/drive/MyDrive/total1.txt\", \"rb\") as fp1:   # Unpickling\n",
        "  total1 = pickle.load(fp1)\n",
        "\n",
        "print(total)\n",
        "print(total1)\n",
        "print(np.mean(total))\n",
        "print(np.mean(total1))"
      ],
      "execution_count": null,
      "outputs": []
    }
  ]
}